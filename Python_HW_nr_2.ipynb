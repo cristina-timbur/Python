{
 "cells": [
  {
   "cell_type": "code",
   "execution_count": 1,
   "id": "e975b7a0",
   "metadata": {},
   "outputs": [],
   "source": [
    "class FigureSkatersChampions:\n",
    "    \n",
    "    def __init__(self, fname, name, age, country, gender, year):\n",
    "        self.prenume = fname\n",
    "        self.nume = name\n",
    "        self.varsta = age\n",
    "        self.tara = country\n",
    "        self.gen = gender\n",
    "        self.an = year\n",
    "\n",
    "    def gender(self):\n",
    "        if self.gen[0].lower() == 'f':\n",
    "            return 'She'\n",
    "        else:\n",
    "            return 'He'\n",
    "\n",
    "    def description(self):\n",
    "        print(f\"{self.prenume} {self.nume} is practicing for the next competition ;)).\")\n",
    "\n",
    "    def years(self):\n",
    "        print(f\"{self.prenume} has been a figure skater for {2021 - self.an} years, since {self.an}, when {self.gender().lower()} was only {self.varsta - 2021 + self.an}.\")\n"
   ]
  },
  {
   "cell_type": "code",
   "execution_count": 2,
   "id": "d894ff4c",
   "metadata": {},
   "outputs": [
    {
     "name": "stdout",
     "output_type": "stream",
     "text": [
      "Евгений Семененко is practicing for the next competition ;)).\n"
     ]
    }
   ],
   "source": [
    "anna = FigureSkatersChampions('Анна','Щербакова', 17, 'Russia','F', 2008)\n",
    "jenya = FigureSkatersChampions('Евгений','Семененко', 17, 'Russia','m', 2007)\n",
    "jenya.description()"
   ]
  },
  {
   "cell_type": "code",
   "execution_count": 3,
   "id": "150d2889",
   "metadata": {},
   "outputs": [],
   "source": [
    "class SingleSkaters(FigureSkatersChampions):\n",
    "    \n",
    "    def __init__(self, fname, name, age, country, gender, year, coach, sp, fs, goe):\n",
    "        super().__init__(fname, name, age, country, gender, year)\n",
    "        self.antrenor = coach\n",
    "        self.__sp = sp\n",
    "        self.__pp = fs\n",
    "        self.gde = goe\n",
    "    \n",
    "    def top(self):\n",
    "        if self.gender() == 'She':\n",
    "            return 217.20\n",
    "        else:\n",
    "            return 280.18\n",
    "\n",
    "    def points(self):\n",
    "        return self.__sp + self.__pp\n",
    "    \n",
    "    def place(self):\n",
    "        if self.points() > self.top():\n",
    "            print(f\"{self.prenume} {self.nume}, trained by {self.antrenor}, is in top 3 at the World Figure Skating Championships 2021, representing {self.tara}.\")\n",
    "        else:\n",
    "            print(f\"{self.prenume} didn\\'t qualify in top 3 at the World Figure Skating Championships 2021.\")"
   ]
  },
  {
   "cell_type": "code",
   "execution_count": 4,
   "id": "5d382cd7",
   "metadata": {},
   "outputs": [],
   "source": [
    "liza = SingleSkaters('Елизавета','Туктамышева', 24, 'Russia','F', 2000, 'Алексей Мишин', 78.86, 141.60, 2.5)\n",
    "yuzuru = SingleSkaters('Yuzuru','Hanyu', 26, 'Japan','m', 1998, 'Brian Orser', 106.98, 182.20, 3.5)\n",
    "nathan = SingleSkaters('Nathan','Chen', 21, 'SUA','m', 2002, 'Rafael Arutyunyan', 98.85, 222.03, 3.75)"
   ]
  },
  {
   "cell_type": "code",
   "execution_count": 5,
   "id": "e091abb0",
   "metadata": {},
   "outputs": [
    {
     "name": "stdout",
     "output_type": "stream",
     "text": [
      "Yuzuru Hanyu, trained by Brian Orser, is in top 3 at the World Figure Skating Championships 2021, representing Japan.\n"
     ]
    }
   ],
   "source": [
    "yuzuru.place()"
   ]
  },
  {
   "cell_type": "code",
   "execution_count": 6,
   "id": "387c8d2b",
   "metadata": {},
   "outputs": [],
   "source": [
    "class Pairs(FigureSkatersChampions):\n",
    "    \n",
    "    def __init__(self, fname, name, age, country, gender, year, partner, lutz, axel, goe):\n",
    "        super().__init__(fname, name, age, country, gender, year)\n",
    "        self.partener = partner\n",
    "        self.__lutz = lutz\n",
    "        self.__axel = axel\n",
    "        self.__goe = goe\n",
    "        \n",
    "    def points(self):\n",
    "        return self.__lutz * 4.9 + self.__axel * 8 + self.__goe * 7\n",
    "        \n",
    "    def description(self):\n",
    "        print(f\"The pair consisting of {self.prenume} {self.nume} and {self.partener} has gained a total score of {self.points()} points at the WFSC2021, representing {self.tara}\")\n",
    "        if self.tara.lower()[:3] == 'rus':\n",
    "            print(\"Ура!!!!\")"
   ]
  },
  {
   "cell_type": "code",
   "execution_count": 7,
   "id": "86562e17",
   "metadata": {},
   "outputs": [],
   "source": [
    "ad = Pairs('Александра','Бойкова', 19, 'Rusia','f', 2005, 'Дмитрий Козловский', 2, 2, 1.95)\n",
    "aa = Pairs('Анастасия', 'Мишина', 19, 'Russia', 'F', 2004, 'Александр Галлямов', 2, 3, 2.5)"
   ]
  },
  {
   "cell_type": "code",
   "execution_count": 8,
   "id": "3cf98fe9",
   "metadata": {},
   "outputs": [
    {
     "name": "stdout",
     "output_type": "stream",
     "text": [
      "The pair consisting of Анастасия Мишина and Александр Галлямов has gained a total score of 51.3 points at the WFSC2021, representing Russia\n",
      "Ура!!!!\n"
     ]
    }
   ],
   "source": [
    "aa.description()"
   ]
  }
 ],
 "metadata": {
  "kernelspec": {
   "display_name": "Python 3",
   "language": "python",
   "name": "python3"
  },
  "language_info": {
   "codemirror_mode": {
    "name": "ipython",
    "version": 3
   },
   "file_extension": ".py",
   "mimetype": "text/x-python",
   "name": "python",
   "nbconvert_exporter": "python",
   "pygments_lexer": "ipython3",
   "version": "3.8.9"
  }
 },
 "nbformat": 4,
 "nbformat_minor": 5
}
